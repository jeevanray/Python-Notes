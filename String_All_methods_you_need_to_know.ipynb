{
  "nbformat": 4,
  "nbformat_minor": 0,
  "metadata": {
    "colab": {
      "name": "String All methods.ipynb",
      "provenance": [],
      "collapsed_sections": []
    },
    "kernelspec": {
      "name": "python3",
      "display_name": "Python 3"
    },
    "language_info": {
      "name": "python"
    }
  },
  "cells": [
    {
      "cell_type": "markdown",
      "source": [
        "#String Slicing"
      ],
      "metadata": {
        "id": "LN_qYrC7FRf_"
      }
    },
    {
      "cell_type": "code",
      "source": [
        "s = 'www.example.com'\n",
        "#s[Start:Stop:Step]\n",
        "s[2:8:2]\n",
        "s[::-1] #to reverse String"
      ],
      "metadata": {
        "colab": {
          "base_uri": "https://localhost:8080/",
          "height": 35
        },
        "id": "1X0-uJtbFYGv",
        "outputId": "27b7cd1a-4484-4263-ff32-5bdc59d5b3b1"
      },
      "execution_count": 13,
      "outputs": [
        {
          "output_type": "execute_result",
          "data": {
            "application/vnd.google.colaboratory.intrinsic+json": {
              "type": "string"
            },
            "text/plain": [
              "'moc.elpmaxe.www'"
            ]
          },
          "metadata": {},
          "execution_count": 13
        }
      ]
    },
    {
      "cell_type": "markdown",
      "source": [
        "#Strip Methods"
      ],
      "metadata": {
        "id": "wjyxfw__F1WJ"
      }
    },
    {
      "cell_type": "code",
      "source": [
        "s = '  www.example.com  '.strip() #strip() removes Leading & Trailing Whitespaces from String\n",
        "s"
      ],
      "metadata": {
        "colab": {
          "base_uri": "https://localhost:8080/",
          "height": 35
        },
        "id": "-NfG0TYNFPZT",
        "outputId": "3f0b9828-f207-4714-f978-90f41f4fa950"
      },
      "execution_count": 15,
      "outputs": [
        {
          "output_type": "execute_result",
          "data": {
            "application/vnd.google.colaboratory.intrinsic+json": {
              "type": "string"
            },
            "text/plain": [
              "'www.example.com'"
            ]
          },
          "metadata": {},
          "execution_count": 15
        }
      ]
    },
    {
      "cell_type": "code",
      "source": [
        "s = '###www.example.com##'.strip(\"#\") #White space can be replaced with some other parameters\n",
        "s"
      ],
      "metadata": {
        "colab": {
          "base_uri": "https://localhost:8080/",
          "height": 35
        },
        "id": "l4ghUJPtFPtb",
        "outputId": "3872a8cb-a3f5-445c-9c9c-2353fe561a52"
      },
      "execution_count": 16,
      "outputs": [
        {
          "output_type": "execute_result",
          "data": {
            "application/vnd.google.colaboratory.intrinsic+json": {
              "type": "string"
            },
            "text/plain": [
              "'www.example.com'"
            ]
          },
          "metadata": {},
          "execution_count": 16
        }
      ]
    },
    {
      "cell_type": "code",
      "source": [
        "#Strip can remove multiple letters from Leading & trailing Side from string\n",
        "s = 'www.example.com'.strip(\"mo.w\") #\"wco.\" all are considered as separate string & striped of from string\n",
        "s"
      ],
      "metadata": {
        "colab": {
          "base_uri": "https://localhost:8080/",
          "height": 35
        },
        "id": "qOIFP8teE09p",
        "outputId": "30fceb8b-0ff9-4b66-9248-531113aaac92"
      },
      "execution_count": 23,
      "outputs": [
        {
          "output_type": "execute_result",
          "data": {
            "application/vnd.google.colaboratory.intrinsic+json": {
              "type": "string"
            },
            "text/plain": [
              "'example.c'"
            ]
          },
          "metadata": {},
          "execution_count": 23
        }
      ]
    },
    {
      "cell_type": "code",
      "source": [
        "#lstrip & rstrip\n",
        "s = '  www.example.com  '.lstrip()\n",
        "print(s)\n",
        "s = '  www.example.com  '.rstrip()\n",
        "s"
      ],
      "metadata": {
        "colab": {
          "base_uri": "https://localhost:8080/",
          "height": 53
        },
        "id": "WU5KGtAiE-bJ",
        "outputId": "76f6698e-4751-4941-ccde-3fb80b3d8604"
      },
      "execution_count": 28,
      "outputs": [
        {
          "output_type": "stream",
          "name": "stdout",
          "text": [
            "www.example.com  \n"
          ]
        },
        {
          "output_type": "execute_result",
          "data": {
            "application/vnd.google.colaboratory.intrinsic+json": {
              "type": "string"
            },
            "text/plain": [
              "'  www.example.com'"
            ]
          },
          "metadata": {},
          "execution_count": 28
        }
      ]
    },
    {
      "cell_type": "code",
      "source": [
        "s = 'Arthur: three!'.lstrip('Arthur: ')\n",
        "print(s)"
      ],
      "metadata": {
        "colab": {
          "base_uri": "https://localhost:8080/"
        },
        "id": "a_ebuSiVHkhk",
        "outputId": "f5d0ddb8-39e7-414e-8e41-13723ccc4893"
      },
      "execution_count": 34,
      "outputs": [
        {
          "output_type": "stream",
          "name": "stdout",
          "text": [
            "ee!\n"
          ]
        }
      ]
    },
    {
      "cell_type": "code",
      "source": [
        "s = 'Arthur: three!'.removeprefix('Arthur')\n",
        "print(s)\n",
        "\n",
        "s = 'Arthur: three!'.removesuffix('three')"
      ],
      "metadata": {
        "colab": {
          "base_uri": "https://localhost:8080/",
          "height": 217
        },
        "id": "_VwAnB_Wcf-4",
        "outputId": "ea6eae59-7543-49ea-c9a6-8004df2ab694"
      },
      "execution_count": 36,
      "outputs": [
        {
          "output_type": "error",
          "ename": "AttributeError",
          "evalue": "ignored",
          "traceback": [
            "\u001b[0;31m---------------------------------------------------------------------------\u001b[0m",
            "\u001b[0;31mAttributeError\u001b[0m                            Traceback (most recent call last)",
            "\u001b[0;32m<ipython-input-36-8a24b3e0496c>\u001b[0m in \u001b[0;36m<module>\u001b[0;34m()\u001b[0m\n\u001b[0;32m----> 1\u001b[0;31m \u001b[0ms\u001b[0m \u001b[0;34m=\u001b[0m \u001b[0;34m'Arthur: three!'\u001b[0m\u001b[0;34m.\u001b[0m\u001b[0mremoveprefix\u001b[0m\u001b[0;34m(\u001b[0m\u001b[0;34m'Arthur'\u001b[0m\u001b[0;34m)\u001b[0m\u001b[0;34m\u001b[0m\u001b[0;34m\u001b[0m\u001b[0m\n\u001b[0m\u001b[1;32m      2\u001b[0m \u001b[0mprint\u001b[0m\u001b[0;34m(\u001b[0m\u001b[0ms\u001b[0m\u001b[0;34m)\u001b[0m\u001b[0;34m\u001b[0m\u001b[0;34m\u001b[0m\u001b[0m\n\u001b[1;32m      3\u001b[0m \u001b[0;34m\u001b[0m\u001b[0m\n\u001b[1;32m      4\u001b[0m \u001b[0ms\u001b[0m \u001b[0;34m=\u001b[0m \u001b[0;34m'Arthur: three!'\u001b[0m\u001b[0;34m.\u001b[0m\u001b[0mremovesuffix\u001b[0m\u001b[0;34m(\u001b[0m\u001b[0;34m'three'\u001b[0m\u001b[0;34m)\u001b[0m\u001b[0;34m\u001b[0m\u001b[0;34m\u001b[0m\u001b[0m\n",
            "\u001b[0;31mAttributeError\u001b[0m: 'str' object has no attribute 'removeprefix'"
          ]
        }
      ]
    },
    {
      "cell_type": "markdown",
      "source": [
        "#Replace"
      ],
      "metadata": {
        "id": "AdAewKkIezUR"
      }
    },
    {
      "cell_type": "code",
      "source": [
        "s = '  www.example.com  '.replace(' ','-')\n",
        "s"
      ],
      "metadata": {
        "colab": {
          "base_uri": "https://localhost:8080/",
          "height": 35
        },
        "id": "Dm7w9F2ced3r",
        "outputId": "8ddb629b-e976-4d3f-a35e-b83714c500a7"
      },
      "execution_count": 38,
      "outputs": [
        {
          "output_type": "execute_result",
          "data": {
            "application/vnd.google.colaboratory.intrinsic+json": {
              "type": "string"
            },
            "text/plain": [
              "'--www.example.com--'"
            ]
          },
          "metadata": {},
          "execution_count": 38
        }
      ]
    },
    {
      "cell_type": "markdown",
      "source": [
        "#re.sub"
      ],
      "metadata": {
        "id": "PeqUcgEyfDl1"
      }
    },
    {
      "cell_type": "code",
      "source": [
        "import re\n",
        "s = 'String    methods in python'\n",
        "s2 = s.replace(\" \",'-') # Replaces Every spaces with -\n",
        "print(s2)\n",
        "s1= re.sub('\\s+','-',s) # replaces Multiple consecutive spaces with single -\n",
        "print(s1)"
      ],
      "metadata": {
        "colab": {
          "base_uri": "https://localhost:8080/"
        },
        "id": "AmyvOPpPe7kw",
        "outputId": "4736a62f-be20-4042-a355-f136cdcf7c7a"
      },
      "execution_count": 42,
      "outputs": [
        {
          "output_type": "stream",
          "name": "stdout",
          "text": [
            "String----methods-in-python\n",
            "String-methods-in-python\n"
          ]
        }
      ]
    },
    {
      "cell_type": "markdown",
      "source": [
        "#split()"
      ],
      "metadata": {
        "id": "fXwxGw3thELT"
      }
    },
    {
      "cell_type": "code",
      "source": [
        "s = 'String methods in python'\n",
        "x=s.split() #By default it consider space as delimeter\n",
        "print(x)\n",
        "x=s.split('in',maxsplit=1)# from left side split data in only 1 part\n",
        "print(x)\n",
        "x=s.rsplit(' ',maxsplit=1) #from right side split in 1 part\n",
        "print(x)"
      ],
      "metadata": {
        "colab": {
          "base_uri": "https://localhost:8080/"
        },
        "id": "9jZxXOVQgNmS",
        "outputId": "5f60c1a0-b270-42ab-f688-75b485f01edb"
      },
      "execution_count": 47,
      "outputs": [
        {
          "output_type": "stream",
          "name": "stdout",
          "text": [
            "['String', 'methods', 'in', 'python']\n",
            "['Str', 'g methods in python']\n",
            "['String methods in', 'python']\n"
          ]
        }
      ]
    },
    {
      "cell_type": "markdown",
      "source": [
        "#Join()"
      ],
      "metadata": {
        "id": "fsq0evmFhowV"
      }
    },
    {
      "cell_type": "code",
      "source": [
        "s = 'String methods in python'\n",
        "list_of_strings = x=s.split() #list of Strings\n",
        "s= \"-\".join(list_of_strings) #'-' as delimeter\n",
        "s"
      ],
      "metadata": {
        "colab": {
          "base_uri": "https://localhost:8080/",
          "height": 35
        },
        "id": "u-ClkP_AhOhq",
        "outputId": "148de914-6012-42c3-e6c4-aad262ce5e4e"
      },
      "execution_count": 48,
      "outputs": [
        {
          "output_type": "execute_result",
          "data": {
            "application/vnd.google.colaboratory.intrinsic+json": {
              "type": "string"
            },
            "text/plain": [
              "'String-methods-in-python'"
            ]
          },
          "metadata": {},
          "execution_count": 48
        }
      ]
    },
    {
      "cell_type": "markdown",
      "source": [
        "#upper()\n",
        "#lower()\n",
        "#capitalize()"
      ],
      "metadata": {
        "id": "bAOJlt5gijbB"
      }
    },
    {
      "cell_type": "code",
      "source": [
        "s = 'Python is Awesome!'\n",
        "print(s.upper()) #all string changed to uppercase\n",
        "print(s.lower()) #all string changed to lowercase\n",
        "print(s.capitalize()) #all string changed with starting letter as capital letter & rest text as lower case"
      ],
      "metadata": {
        "colab": {
          "base_uri": "https://localhost:8080/"
        },
        "id": "3tkm0j-EiZGA",
        "outputId": "80252b9b-c302-4d06-9f07-54aa6a6baaf1"
      },
      "execution_count": 51,
      "outputs": [
        {
          "output_type": "stream",
          "name": "stdout",
          "text": [
            "PYTHON IS AWESOME!\n",
            "python is awesome!\n",
            "Python is awesome!\n"
          ]
        }
      ]
    },
    {
      "cell_type": "markdown",
      "source": [
        "#islower()\n",
        "#isupper()\n",
        "#isalpha()\n",
        "#isnumeric()\n",
        "#isalnum()"
      ],
      "metadata": {
        "id": "PyT1rsYGjPmq"
      }
    },
    {
      "cell_type": "code",
      "source": [
        "s = 'Python is Awesome!'\n",
        "print(s.lower().islower()) # if lower case return Boolean\n",
        "print(s.isupper()) # if upper case return Boolean\n",
        "s='Python '\n",
        "print(s.isalpha()) #if alphabates without space then return True Boolean\n",
        "s = '50'\n",
        "print(s.isnumeric())  #if numeric without space then return True Boolean\n",
        "s = '50del'\n",
        "print(s.isalnum()) # if alphabates &numeric without space then return True Boolean"
      ],
      "metadata": {
        "colab": {
          "base_uri": "https://localhost:8080/"
        },
        "id": "0HgmRxkCi6DN",
        "outputId": "fe69b5d1-3784-4b5b-b648-6b9fff380661"
      },
      "execution_count": 70,
      "outputs": [
        {
          "output_type": "stream",
          "name": "stdout",
          "text": [
            "True\n",
            "False\n",
            "False\n",
            "True\n",
            "True\n"
          ]
        }
      ]
    },
    {
      "cell_type": "markdown",
      "source": [
        "#count('string')\n",
        "#find('string')\n",
        "#rfind('String')\n"
      ],
      "metadata": {
        "id": "__x8KZpwnItA"
      }
    },
    {
      "cell_type": "code",
      "source": [
        "s = 'Machine learning'\n",
        "print(s.count('a')) #counts the string\n",
        "print(s.find('a')) #returns first index of keyword if it doesn't dinf anything then it returns -1\n",
        "print(s.find('a',2)) # where 2 is a staring index for string\n",
        "print(s.rfind('a')) # search keyword from right end side\n",
        "print(s[s.find('a'):]) # can be used to slice string for certin part of strings."
      ],
      "metadata": {
        "colab": {
          "base_uri": "https://localhost:8080/"
        },
        "id": "1THZlS-il1fP",
        "outputId": "92fb2339-b6c7-4b89-bcbf-c7a68f825326"
      },
      "execution_count": 75,
      "outputs": [
        {
          "output_type": "stream",
          "name": "stdout",
          "text": [
            "2\n",
            "1\n",
            "10\n",
            "10\n",
            "achine learning\n"
          ]
        }
      ]
    },
    {
      "cell_type": "markdown",
      "source": [
        "#f'String'"
      ],
      "metadata": {
        "id": "ueoazaF-u91S"
      }
    },
    {
      "cell_type": "code",
      "source": [
        "num = 1\n",
        "language = 'Python'\n",
        "s = f' {language} is is the number {num :10.2f} programming Language.' # :'10' indicates how many spaces will be there before num & .2f indicates 2 decimals\n",
        "print(s)"
      ],
      "metadata": {
        "colab": {
          "base_uri": "https://localhost:8080/"
        },
        "id": "EMWR-fUDpgY9",
        "outputId": "e7e22397-07ba-41f9-a504-6c9e0d878382"
      },
      "execution_count": 80,
      "outputs": [
        {
          "output_type": "stream",
          "name": "stdout",
          "text": [
            " Python is is the number       1.00 programming Language.\n"
          ]
        }
      ]
    },
    {
      "cell_type": "markdown",
      "source": [
        "#swapcase()"
      ],
      "metadata": {
        "id": "w3MTDGqW1SnS"
      }
    },
    {
      "cell_type": "code",
      "source": [
        "s = 'HELLO world'\n",
        "print(s.swapcase()) # swaps the upper case to lower case and vice versa"
      ],
      "metadata": {
        "colab": {
          "base_uri": "https://localhost:8080/"
        },
        "id": "lg1SPnXf0xmk",
        "outputId": "12065a69-dd89-4795-aad3-e62140dcb7a8"
      },
      "execution_count": 82,
      "outputs": [
        {
          "output_type": "stream",
          "name": "stdout",
          "text": [
            "hello WORLD\n"
          ]
        }
      ]
    },
    {
      "cell_type": "markdown",
      "source": [
        "#zfill(string)"
      ],
      "metadata": {
        "id": "OM40bD4v1jT0"
      }
    },
    {
      "cell_type": "code",
      "source": [
        "s = '42'\n",
        "print(s.zfill(5)) #fills zereos if value is greater than length of string\n",
        "print(s.zfill(1)) #returns as it is if value is less than length of string\n",
        "s = '+42'\n",
        "print(s.zfill(5)) #if first item is + or - sign it keeps it as first\n",
        "print(s.zfill(3)) #if first item is + or - sign it keeps it as first\n",
        "\n",
        "text = \"--anything%(&%(%)*^\" #if first item is + or - sign it keeps it as first\n",
        "print(text.zfill(20))"
      ],
      "metadata": {
        "colab": {
          "base_uri": "https://localhost:8080/"
        },
        "id": "VRu3W59S1aRl",
        "outputId": "9a2f77f9-259d-4254-e3ad-d88b59b99929"
      },
      "execution_count": 88,
      "outputs": [
        {
          "output_type": "stream",
          "name": "stdout",
          "text": [
            "00042\n",
            "42\n",
            "+0042\n",
            "+42\n",
            "-0-anything%(&%(%)*^\n"
          ]
        }
      ]
    },
    {
      "cell_type": "code",
      "source": [
        ""
      ],
      "metadata": {
        "id": "yOud8CW22Do3"
      },
      "execution_count": null,
      "outputs": []
    }
  ]
}